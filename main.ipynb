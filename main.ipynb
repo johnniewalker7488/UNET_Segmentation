{
 "cells": [
  {
   "cell_type": "code",
   "execution_count": 1,
   "id": "a6f25c63-ceb6-4e91-882d-fb7a7473cc4c",
   "metadata": {},
   "outputs": [],
   "source": [
    "import os\n",
    "import torch\n",
    "import albumentations as A\n",
    "from albumentations.pytorch import ToTensorV2\n",
    "from tqdm import tqdm\n",
    "import torch.nn as nn\n",
    "import torch.optim as optim\n",
    "\n",
    "from dataset import CarvanaDataset, prepare_datasets\n",
    "from model import UNET\n",
    "from train import train_fn\n",
    "import utils"
   ]
  },
  {
   "cell_type": "code",
   "execution_count": 2,
   "id": "7fd6429d-5de9-4d90-a34a-36564a38853e",
   "metadata": {},
   "outputs": [],
   "source": [
    "DEVICE = 'cuda:0' if torch.cuda.is_available() else 'cpu'\n",
    "DATA_DIR = './dataset/'\n",
    "LR = 1e-4\n",
    "BATCH_SIZE = 32\n",
    "NUM_EPOCHS = 2\n",
    "NUM_WORKERS = 16\n",
    "IMAGE_HEIGHT = 160\n",
    "IMAGE_WIDTH = 240\n",
    "PIN_MEMORY = True\n",
    "LOAD_MODEL = False\n",
    "TRAIN_DIR = os.path.join(DATA_DIR, 'train')\n",
    "TRAIN_MASKDIR = os.path.join(DATA_DIR, 'train_masks')\n",
    "VAL_DIR = os.path.join(DATA_DIR, 'val')\n",
    "VAL_MASKDIR = os.path.join(DATA_DIR, 'val_masks')"
   ]
  },
  {
   "cell_type": "code",
   "execution_count": 3,
   "id": "878d50da-bb20-48f6-8ff7-0a89a6f01f70",
   "metadata": {},
   "outputs": [],
   "source": [
    "# prepare_datasets(DATA_DIR)"
   ]
  },
  {
   "cell_type": "code",
   "execution_count": 4,
   "id": "476bc783-e145-447b-84cf-6b0c344a3894",
   "metadata": {},
   "outputs": [],
   "source": [
    "train_transform = A.Compose(\n",
    "    [\n",
    "        A.Resize(height=IMAGE_HEIGHT, width=IMAGE_WIDTH),\n",
    "        A.Rotate(limit=35, p=1.0),\n",
    "        A.HorizontalFlip(p=0.5),\n",
    "        A.VerticalFlip(p=0.1),\n",
    "        A.Normalize(\n",
    "            mean=[0.0, 0.0, 0.0],\n",
    "            std=[1.0, 1.0, 1.0],\n",
    "            max_pixel_value=255.0),\n",
    "        ToTensorV2()\n",
    "    ])\n",
    "\n",
    "val_transform = A.Compose(\n",
    "    [\n",
    "        A.Resize(height=IMAGE_HEIGHT, width=IMAGE_WIDTH),\n",
    "        A.Normalize(\n",
    "            mean=[0.0, 0.0, 0.0],\n",
    "            std=[1.0, 1.0, 1.0],\n",
    "            max_pixel_value=255.0),\n",
    "        ToTensorV2()\n",
    "    ])"
   ]
  },
  {
   "cell_type": "code",
   "execution_count": 5,
   "id": "649b9791-5a15-4113-bc9a-7cfd2b009d73",
   "metadata": {},
   "outputs": [],
   "source": [
    "net = UNET(in_channels=3, out_channels=1).to(DEVICE)\n",
    "loss_fn = nn.BCEWithLogitsLoss()\n",
    "optimizer = optim.Adam(net.parameters(), lr=LR)"
   ]
  },
  {
   "cell_type": "code",
   "execution_count": 6,
   "id": "ad2c06e2-776c-477f-abc0-ee216da8c435",
   "metadata": {},
   "outputs": [
    {
     "name": "stdout",
     "output_type": "stream",
     "text": [
      "torch.Size([32, 1, 160, 240])\n",
      "torch.Size([32, 3, 160, 240])\n"
     ]
    }
   ],
   "source": [
    "x = torch.randn((32, 3, 160, 240)).to(DEVICE)\n",
    "pred = net(x)\n",
    "print(pred.shape)\n",
    "print(x.shape)"
   ]
  },
  {
   "cell_type": "code",
   "execution_count": 7,
   "id": "0ac9ad96-5a4c-4dc8-9a74-1f3a0ffd8af1",
   "metadata": {},
   "outputs": [],
   "source": [
    "train_loader, val_loader = utils.get_loaders(\n",
    "    TRAIN_DIR,\n",
    "    TRAIN_MASKDIR,\n",
    "    VAL_DIR,\n",
    "    VAL_MASKDIR,\n",
    "    BATCH_SIZE,\n",
    "    train_transform,\n",
    "    val_transform,\n",
    "    NUM_WORKERS,\n",
    "    PIN_MEMORY\n",
    ")"
   ]
  },
  {
   "cell_type": "code",
   "execution_count": 8,
   "id": "a6046e8c-4808-472e-ac58-29392f5b3708",
   "metadata": {},
   "outputs": [
    {
     "name": "stderr",
     "output_type": "stream",
     "text": [
      "100%|██████████| 128/128 [01:57<00:00,  1.09it/s, loss=0.134]\n"
     ]
    },
    {
     "name": "stdout",
     "output_type": "stream",
     "text": [
      "Validation Dice score: 0.9762299656867981\n"
     ]
    },
    {
     "name": "stderr",
     "output_type": "stream",
     "text": [
      "100%|██████████| 128/128 [02:06<00:00,  1.01it/s, loss=0.105]\n"
     ]
    },
    {
     "name": "stdout",
     "output_type": "stream",
     "text": [
      "Validation Dice score: 0.9790133237838745\n"
     ]
    }
   ],
   "source": [
    "scaler = torch.cuda.amp.GradScaler()\n",
    "for epoch in range(NUM_EPOCHS):\n",
    "    train_fn(train_loader, net, optimizer, loss_fn, scaler, device=DEVICE)\n",
    "    \n",
    "#     torch.save({\n",
    "#             'model_state_dict': model.state_dict(),\n",
    "#             'optimizer_state_dict': optimizer.state_dict(),\n",
    "#             }, './model_weights/model_weights.pth')\n",
    "    \n",
    "    utils.check_dice(val_loader, net, device=DEVICE)\n",
    "    \n",
    "#     utils.save_preds_img(val_loader, net)"
   ]
  }
 ],
 "metadata": {
  "kernelspec": {
   "display_name": "Python 3",
   "language": "python",
   "name": "python3"
  },
  "language_info": {
   "codemirror_mode": {
    "name": "ipython",
    "version": 3
   },
   "file_extension": ".py",
   "mimetype": "text/x-python",
   "name": "python",
   "nbconvert_exporter": "python",
   "pygments_lexer": "ipython3",
   "version": "3.7.9"
  }
 },
 "nbformat": 4,
 "nbformat_minor": 5
}
