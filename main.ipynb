{
 "cells": [
  {
   "cell_type": "code",
   "execution_count": 1,
   "id": "a6f25c63-ceb6-4e91-882d-fb7a7473cc4c",
   "metadata": {},
   "outputs": [],
   "source": [
    "import os\n",
    "import torch\n",
    "import albumentations as A\n",
    "from albumentations.pytorch import ToTensorV2\n",
    "from tqdm import tqdm\n",
    "import torch.nn as nn\n",
    "import torch.optim as optim\n",
    "\n",
    "from dataset import CarvanaDataset, prepare_datasets\n",
    "from model import UNET\n",
    "from train import train_fn\n",
    "import utils"
   ]
  },
  {
   "cell_type": "code",
   "execution_count": 2,
   "id": "7fd6429d-5de9-4d90-a34a-36564a38853e",
   "metadata": {},
   "outputs": [],
   "source": [
    "DEVICE = 'cuda:0' if torch.cuda.is_available() else 'cpu'\n",
    "DATA_DIR = './dataset/'\n",
    "LR = 1e-4\n",
    "BATCH_SIZE = 32\n",
    "NUM_EPOCHS = 20\n",
    "NUM_WORKERS = 16\n",
    "IMAGE_HEIGHT = 320\n",
    "IMAGE_WIDTH = 320\n",
    "PIN_MEMORY = True\n",
    "LOAD_MODEL = False\n",
    "TRAIN_DIR = os.path.join(DATA_DIR, 'train')\n",
    "TRAIN_MASKDIR = os.path.join(DATA_DIR, 'train_masks')\n",
    "VAL_DIR = os.path.join(DATA_DIR, 'val')\n",
    "VAL_MASKDIR = os.path.join(DATA_DIR, 'val_masks')"
   ]
  },
  {
   "cell_type": "code",
   "execution_count": 3,
   "id": "878d50da-bb20-48f6-8ff7-0a89a6f01f70",
   "metadata": {},
   "outputs": [],
   "source": [
    "# prepare_datasets(DATA_DIR)"
   ]
  },
  {
   "cell_type": "code",
   "execution_count": 4,
   "id": "476bc783-e145-447b-84cf-6b0c344a3894",
   "metadata": {},
   "outputs": [],
   "source": [
    "train_transform = A.Compose(\n",
    "    [\n",
    "        A.Resize(height=IMAGE_HEIGHT, width=IMAGE_WIDTH),\n",
    "        A.ShiftScaleRotate(shift_limit=0.05, scale_limit=0.05, rotate_limit=15, p=0.5),\n",
    "        A.RandomCrop(height=280, width=280),\n",
    "        A.RGBShift(r_shift_limit=15, g_shift_limit=15, b_shift_limit=15, p=0.5),\n",
    "        A.HorizontalFlip(p=0.5),\n",
    "        A.VerticalFlip(p=0.1),\n",
    "        A.Normalize(\n",
    "            mean=[0.0, 0.0, 0.0],\n",
    "            std=[1.0, 1.0, 1.0],\n",
    "            max_pixel_value=255.0),\n",
    "        ToTensorV2()\n",
    "    ])\n",
    "\n",
    "val_transform = A.Compose(\n",
    "    [\n",
    "        A.Resize(height=IMAGE_HEIGHT, width=IMAGE_WIDTH),\n",
    "        A.Normalize(\n",
    "            mean=[0.0, 0.0, 0.0],\n",
    "            std=[1.0, 1.0, 1.0],\n",
    "            max_pixel_value=255.0),\n",
    "        ToTensorV2()\n",
    "    ])"
   ]
  },
  {
   "cell_type": "code",
   "execution_count": 5,
   "id": "649b9791-5a15-4113-bc9a-7cfd2b009d73",
   "metadata": {},
   "outputs": [],
   "source": [
    "net = UNET(in_channels=3, out_channels=1)\n",
    "net = nn.DataParallel(net, device_ids=['cuda:0', 'cuda:1', 'cuda:2', 'cuda:3'])\n",
    "net = net.to(DEVICE)\n",
    "loss_fn = nn.BCEWithLogitsLoss()\n",
    "optimizer = optim.Adam(net.parameters(), lr=LR)"
   ]
  },
  {
   "cell_type": "code",
   "execution_count": 6,
   "id": "ad2c06e2-776c-477f-abc0-ee216da8c435",
   "metadata": {},
   "outputs": [
    {
     "name": "stdout",
     "output_type": "stream",
     "text": [
      "torch.Size([32, 1, 160, 240])\n",
      "torch.Size([32, 3, 160, 240])\n"
     ]
    }
   ],
   "source": [
    "x = torch.randn((32, 3, 160, 240)).to(DEVICE)\n",
    "pred = net(x)\n",
    "print(pred.shape)\n",
    "print(x.shape)"
   ]
  },
  {
   "cell_type": "code",
   "execution_count": 7,
   "id": "0ac9ad96-5a4c-4dc8-9a74-1f3a0ffd8af1",
   "metadata": {},
   "outputs": [],
   "source": [
    "train_loader, val_loader = utils.get_loaders(\n",
    "    TRAIN_DIR,\n",
    "    TRAIN_MASKDIR,\n",
    "    VAL_DIR,\n",
    "    VAL_MASKDIR,\n",
    "    BATCH_SIZE,\n",
    "    train_transform,\n",
    "    val_transform,\n",
    "    NUM_WORKERS,\n",
    "    PIN_MEMORY\n",
    ")"
   ]
  },
  {
   "cell_type": "code",
   "execution_count": 8,
   "id": "a6046e8c-4808-472e-ac58-29392f5b3708",
   "metadata": {},
   "outputs": [
    {
     "name": "stdout",
     "output_type": "stream",
     "text": [
      "Epoch [1]\n"
     ]
    },
    {
     "name": "stderr",
     "output_type": "stream",
     "text": [
      "100%|██████████| 128/128 [01:17<00:00,  1.66it/s, loss=0.172]\n"
     ]
    },
    {
     "name": "stdout",
     "output_type": "stream",
     "text": [
      "Validation Dice score: 0.9779\n",
      "Epoch [2]\n"
     ]
    },
    {
     "name": "stderr",
     "output_type": "stream",
     "text": [
      "100%|██████████| 128/128 [01:18<00:00,  1.64it/s, loss=0.123]\n"
     ]
    },
    {
     "name": "stdout",
     "output_type": "stream",
     "text": [
      "Validation Dice score: 0.9848\n",
      "Epoch [3]\n"
     ]
    },
    {
     "name": "stderr",
     "output_type": "stream",
     "text": [
      "100%|██████████| 128/128 [01:19<00:00,  1.61it/s, loss=0.0868]\n"
     ]
    },
    {
     "name": "stdout",
     "output_type": "stream",
     "text": [
      "Validation Dice score: 0.9867\n",
      "Epoch [4]\n"
     ]
    },
    {
     "name": "stderr",
     "output_type": "stream",
     "text": [
      "100%|██████████| 128/128 [01:20<00:00,  1.60it/s, loss=0.0942]\n"
     ]
    },
    {
     "name": "stdout",
     "output_type": "stream",
     "text": [
      "Validation Dice score: 0.9859\n",
      "Epoch [5]\n"
     ]
    },
    {
     "name": "stderr",
     "output_type": "stream",
     "text": [
      "100%|██████████| 128/128 [01:20<00:00,  1.59it/s, loss=0.0611]\n"
     ]
    },
    {
     "name": "stdout",
     "output_type": "stream",
     "text": [
      "Validation Dice score: 0.9883\n",
      "Epoch [6]\n"
     ]
    },
    {
     "name": "stderr",
     "output_type": "stream",
     "text": [
      "100%|██████████| 128/128 [01:20<00:00,  1.59it/s, loss=0.053] \n"
     ]
    },
    {
     "name": "stdout",
     "output_type": "stream",
     "text": [
      "Validation Dice score: 0.9896\n",
      "Epoch [7]\n"
     ]
    },
    {
     "name": "stderr",
     "output_type": "stream",
     "text": [
      "100%|██████████| 128/128 [01:20<00:00,  1.58it/s, loss=0.0479]\n"
     ]
    },
    {
     "name": "stdout",
     "output_type": "stream",
     "text": [
      "Validation Dice score: 0.9905\n",
      "Epoch [8]\n"
     ]
    },
    {
     "name": "stderr",
     "output_type": "stream",
     "text": [
      "100%|██████████| 128/128 [01:20<00:00,  1.59it/s, loss=0.0416]\n"
     ]
    },
    {
     "name": "stdout",
     "output_type": "stream",
     "text": [
      "Validation Dice score: 0.9912\n",
      "Epoch [9]\n"
     ]
    },
    {
     "name": "stderr",
     "output_type": "stream",
     "text": [
      "100%|██████████| 128/128 [01:20<00:00,  1.59it/s, loss=0.0336]\n"
     ]
    },
    {
     "name": "stdout",
     "output_type": "stream",
     "text": [
      "Validation Dice score: 0.9910\n",
      "Epoch [10]\n"
     ]
    },
    {
     "name": "stderr",
     "output_type": "stream",
     "text": [
      "100%|██████████| 128/128 [01:20<00:00,  1.58it/s, loss=0.0399]\n"
     ]
    },
    {
     "name": "stdout",
     "output_type": "stream",
     "text": [
      "Validation Dice score: 0.9898\n",
      "Epoch [11]\n"
     ]
    },
    {
     "name": "stderr",
     "output_type": "stream",
     "text": [
      "100%|██████████| 128/128 [01:20<00:00,  1.59it/s, loss=0.0354]\n"
     ]
    },
    {
     "name": "stdout",
     "output_type": "stream",
     "text": [
      "Validation Dice score: 0.9887\n",
      "Epoch [12]\n"
     ]
    },
    {
     "name": "stderr",
     "output_type": "stream",
     "text": [
      "100%|██████████| 128/128 [01:20<00:00,  1.59it/s, loss=0.0275]\n"
     ]
    },
    {
     "name": "stdout",
     "output_type": "stream",
     "text": [
      "Validation Dice score: 0.9921\n",
      "Epoch [13]\n"
     ]
    },
    {
     "name": "stderr",
     "output_type": "stream",
     "text": [
      "100%|██████████| 128/128 [01:21<00:00,  1.58it/s, loss=0.024] \n"
     ]
    },
    {
     "name": "stdout",
     "output_type": "stream",
     "text": [
      "Validation Dice score: 0.9913\n",
      "Epoch [14]\n"
     ]
    },
    {
     "name": "stderr",
     "output_type": "stream",
     "text": [
      "100%|██████████| 128/128 [01:20<00:00,  1.58it/s, loss=0.0237]\n"
     ]
    },
    {
     "name": "stdout",
     "output_type": "stream",
     "text": [
      "Validation Dice score: 0.9921\n",
      "Epoch [15]\n"
     ]
    },
    {
     "name": "stderr",
     "output_type": "stream",
     "text": [
      "100%|██████████| 128/128 [01:20<00:00,  1.58it/s, loss=0.0368]\n"
     ]
    },
    {
     "name": "stdout",
     "output_type": "stream",
     "text": [
      "Validation Dice score: 0.9926\n",
      "Epoch [16]\n"
     ]
    },
    {
     "name": "stderr",
     "output_type": "stream",
     "text": [
      "100%|██████████| 128/128 [01:20<00:00,  1.59it/s, loss=0.0191]\n"
     ]
    },
    {
     "name": "stdout",
     "output_type": "stream",
     "text": [
      "Validation Dice score: 0.9923\n",
      "Epoch [17]\n"
     ]
    },
    {
     "name": "stderr",
     "output_type": "stream",
     "text": [
      "100%|██████████| 128/128 [01:20<00:00,  1.59it/s, loss=0.0179]\n"
     ]
    },
    {
     "name": "stdout",
     "output_type": "stream",
     "text": [
      "Validation Dice score: 0.9931\n",
      "Epoch [18]\n"
     ]
    },
    {
     "name": "stderr",
     "output_type": "stream",
     "text": [
      "100%|██████████| 128/128 [01:20<00:00,  1.59it/s, loss=0.0242]\n"
     ]
    },
    {
     "name": "stdout",
     "output_type": "stream",
     "text": [
      "Validation Dice score: 0.8881\n",
      "Epoch [19]\n"
     ]
    },
    {
     "name": "stderr",
     "output_type": "stream",
     "text": [
      "100%|██████████| 128/128 [01:20<00:00,  1.58it/s, loss=0.0155]\n"
     ]
    },
    {
     "name": "stdout",
     "output_type": "stream",
     "text": [
      "Validation Dice score: 0.9926\n",
      "Epoch [20]\n"
     ]
    },
    {
     "name": "stderr",
     "output_type": "stream",
     "text": [
      "100%|██████████| 128/128 [01:21<00:00,  1.57it/s, loss=0.0133]\n"
     ]
    },
    {
     "name": "stdout",
     "output_type": "stream",
     "text": [
      "Validation Dice score: 0.9928\n"
     ]
    }
   ],
   "source": [
    "scaler = torch.cuda.amp.GradScaler()\n",
    "\n",
    "for epoch in range(NUM_EPOCHS):\n",
    "    print(f'Epoch [{epoch + 1}]')\n",
    "    train_fn(train_loader, net, optimizer, loss_fn, scaler, device=DEVICE)\n",
    "    \n",
    "#     torch.save({\n",
    "#             'model_state_dict': model.state_dict(),\n",
    "#             'optimizer_state_dict': optimizer.state_dict(),\n",
    "#             }, './model_weights/model_weights.pth')\n",
    "    \n",
    "    utils.check_dice(val_loader, net, device=DEVICE)\n",
    "    \n",
    "#     utils.save_preds_img(val_loader, net)"
   ]
  }
 ],
 "metadata": {
  "kernelspec": {
   "display_name": "Python 3",
   "language": "python",
   "name": "python3"
  },
  "language_info": {
   "codemirror_mode": {
    "name": "ipython",
    "version": 3
   },
   "file_extension": ".py",
   "mimetype": "text/x-python",
   "name": "python",
   "nbconvert_exporter": "python",
   "pygments_lexer": "ipython3",
   "version": "3.7.9"
  }
 },
 "nbformat": 4,
 "nbformat_minor": 5
}
